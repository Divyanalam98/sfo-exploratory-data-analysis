{
 "cells": [
  {
   "cell_type": "code",
   "execution_count": null,
   "id": "1d06dc6c",
   "metadata": {},
   "outputs": [],
   "source": [
    "# ADJUSTING CELL SIZE\n",
    "from IPython.display import display, HTML\n",
    "display(HTML(\"<style>.container { width:100% !important; }</style>\"))"
   ]
  },
  {
   "cell_type": "code",
   "execution_count": null,
   "id": "5c526712",
   "metadata": {},
   "outputs": [],
   "source": [
    "import warnings\n",
    "warnings.filterwarnings('ignore')"
   ]
  },
  {
   "cell_type": "code",
   "execution_count": null,
   "id": "b8377fc4",
   "metadata": {},
   "outputs": [],
   "source": [
    "# IMPORTING LIBRARIES NEEDED\n",
    "import numpy as np\n",
    "import pandas as pd\n",
    "import matplotlib.pyplot as plt\n",
    "import datetime as dt"
   ]
  },
  {
   "cell_type": "code",
   "execution_count": null,
   "id": "e7a48bb8",
   "metadata": {},
   "outputs": [],
   "source": [
    "# READ .CSV FILE INTO A DATAFRAME\n",
    "sf=pd.read_csv(\"SF_Restaurant_Scores.csv\")"
   ]
  },
  {
   "cell_type": "code",
   "execution_count": null,
   "id": "4ef0508f",
   "metadata": {},
   "outputs": [],
   "source": [
    "# A QUICK LOOK AT THE DATA\n",
    "sf.shape"
   ]
  },
  {
   "cell_type": "code",
   "execution_count": null,
   "id": "26203e4d",
   "metadata": {},
   "outputs": [],
   "source": [
    "sf.describe() \n",
    "# LOOKS LIKE WE HAVE 53555 ROWS. NaN's PRESENT."
   ]
  },
  {
   "cell_type": "code",
   "execution_count": null,
   "id": "5eff0a2d",
   "metadata": {},
   "outputs": [],
   "source": [
    "sf.head() # FIRST 5 ROWS"
   ]
  },
  {
   "cell_type": "code",
   "execution_count": null,
   "id": "6edad139",
   "metadata": {},
   "outputs": [],
   "source": [
    "sf.tail() # LAST FIVE ROWS"
   ]
  },
  {
   "cell_type": "code",
   "execution_count": null,
   "id": "6eb6c872",
   "metadata": {},
   "outputs": [],
   "source": [
    "# CLEAN UP - REMOVING COLUMNS NOT NEEDED\n",
    "sf.drop(columns=['business_city', 'business_state', 'business_location', 'business_phone_number'], inplace=True) #removing columns not needed for our analysis."
   ]
  },
  {
   "cell_type": "code",
   "execution_count": null,
   "id": "95f2862d",
   "metadata": {},
   "outputs": [],
   "source": [
    "sf.shape # CURRENT SHAFE OF DATAFRAME"
   ]
  },
  {
   "cell_type": "code",
   "execution_count": null,
   "id": "89fd6ba0",
   "metadata": {},
   "outputs": [],
   "source": [
    "sf[\"inspection_date\"] = pd.to_datetime(sf['inspection_date'], infer_datetime_format=True) \n",
    "# WHEN A .CSV FILE IS IMPORTED AND READ TO A DATAFRAME, DATETIME OBJECTS ARE READ AS A STRING. \n",
    "# THEREFORE, CONVERTING THEM TO DATETIME."
   ]
  },
  {
   "cell_type": "code",
   "execution_count": null,
   "id": "ac9f70a6",
   "metadata": {},
   "outputs": [],
   "source": [
    "df=sf.groupby(['business_name']).apply(lambda x: x[x['risk_category'] == 'High Risk' ]['business_id'].count())\n",
    "# GROUP BY BUSINESS NAME WHERE RISK CATEGORY IS HIGH RISK "
   ]
  },
  {
   "cell_type": "code",
   "execution_count": null,
   "id": "29f627b6",
   "metadata": {},
   "outputs": [],
   "source": [
    "df=pd.DataFrame(df) #SERIES TO DATAFRAME"
   ]
  },
  {
   "cell_type": "code",
   "execution_count": null,
   "id": "1c1c2e20",
   "metadata": {},
   "outputs": [],
   "source": [
    "df"
   ]
  },
  {
   "cell_type": "code",
   "execution_count": null,
   "id": "fbf5f401",
   "metadata": {},
   "outputs": [],
   "source": [
    "df.rename(columns = {0:'high_risk_count'}, inplace=True) #RENAMING COLUMN"
   ]
  },
  {
   "cell_type": "code",
   "execution_count": null,
   "id": "894cd0be",
   "metadata": {},
   "outputs": [],
   "source": [
    "df"
   ]
  },
  {
   "cell_type": "code",
   "execution_count": null,
   "id": "55318729",
   "metadata": {},
   "outputs": [],
   "source": [
    "df.sort_values(by=['high_risk_count'], inplace=True, ascending=False) #SORTING BY HIGH RISK COUNT"
   ]
  },
  {
   "cell_type": "code",
   "execution_count": null,
   "id": "8a250fe0",
   "metadata": {},
   "outputs": [],
   "source": [
    "df=df.head(20)"
   ]
  },
  {
   "cell_type": "code",
   "execution_count": null,
   "id": "64c7363b",
   "metadata": {},
   "outputs": [],
   "source": [
    "df"
   ]
  },
  {
   "cell_type": "code",
   "execution_count": null,
   "id": "35a6e380",
   "metadata": {},
   "outputs": [],
   "source": [
    "# PLOTTING GRAPH \n",
    "fig = plt.figure(figsize = (20, 10))\n",
    "plt.bar(df.index, df['high_risk_count'], color ='purple',\n",
    "        width = 0.4)\n",
    "plt.xlabel(\"Restaurants\")\n",
    "plt.ylabel(\"Total_High_Risk_Counts\")\n",
    "plt.title(\"Top 20 High Risk Restaurants in San Francisco\")\n",
    "plt.xticks(rotation = 90)\n",
    "plt.show()"
   ]
  },
  {
   "cell_type": "code",
   "execution_count": null,
   "id": "a5685949",
   "metadata": {},
   "outputs": [],
   "source": [
    "df = sf.loc[sf['risk_category'] == 'High Risk'] # ROWS WITH HIGH RISK  "
   ]
  },
  {
   "cell_type": "code",
   "execution_count": null,
   "id": "4b145c6b",
   "metadata": {},
   "outputs": [],
   "source": [
    "df"
   ]
  },
  {
   "cell_type": "code",
   "execution_count": null,
   "id": "54444da9",
   "metadata": {},
   "outputs": [],
   "source": [
    "df=sf.groupby(['violation_description'])['business_id'].count() # GROUP BY VIOLATION DESCRIPTION "
   ]
  },
  {
   "cell_type": "code",
   "execution_count": null,
   "id": "5db18400",
   "metadata": {},
   "outputs": [],
   "source": [
    "df=pd.DataFrame(df) #SERIES TO DATAFRAME"
   ]
  },
  {
   "cell_type": "code",
   "execution_count": null,
   "id": "12e9d7d2",
   "metadata": {},
   "outputs": [],
   "source": [
    "df"
   ]
  },
  {
   "cell_type": "code",
   "execution_count": null,
   "id": "9f5ce7a7",
   "metadata": {},
   "outputs": [],
   "source": [
    "df.rename(columns = {'business_id':'count'}, inplace=True) # CHANGING COLUMN NAME"
   ]
  },
  {
   "cell_type": "code",
   "execution_count": null,
   "id": "72cabcfa",
   "metadata": {},
   "outputs": [],
   "source": [
    "df.sort_values(by=['count'], inplace=True, ascending=False) # SORT BY COUNT "
   ]
  },
  {
   "cell_type": "code",
   "execution_count": null,
   "id": "821a01e3",
   "metadata": {},
   "outputs": [],
   "source": [
    "df=df.head(20)"
   ]
  },
  {
   "cell_type": "code",
   "execution_count": null,
   "id": "4012092a",
   "metadata": {},
   "outputs": [],
   "source": [
    "df"
   ]
  },
  {
   "cell_type": "code",
   "execution_count": null,
   "id": "2406f0de",
   "metadata": {},
   "outputs": [],
   "source": [
    "del df['count'] # DELETE COLUMN"
   ]
  },
  {
   "cell_type": "code",
   "execution_count": null,
   "id": "dd135340",
   "metadata": {},
   "outputs": [],
   "source": [
    "df "
   ]
  },
  {
   "cell_type": "code",
   "execution_count": null,
   "id": "216b6777",
   "metadata": {},
   "outputs": [],
   "source": [
    "df.index.name = 'top_violations_found'"
   ]
  },
  {
   "cell_type": "code",
   "execution_count": null,
   "id": "411875fd",
   "metadata": {},
   "outputs": [],
   "source": [
    "df # TOP 20 VIOLATIONS OBSERVED FREQUENTLY"
   ]
  },
  {
   "cell_type": "code",
   "execution_count": null,
   "id": "3ce85614",
   "metadata": {},
   "outputs": [],
   "source": [
    "df = sf.loc[sf['risk_category'] == 'High Risk'] # ROWS WITH HIGH RISK"
   ]
  },
  {
   "cell_type": "code",
   "execution_count": null,
   "id": "cb34c0a8",
   "metadata": {},
   "outputs": [],
   "source": [
    "df"
   ]
  },
  {
   "cell_type": "code",
   "execution_count": null,
   "id": "451814f8",
   "metadata": {},
   "outputs": [],
   "source": [
    " df=sf.groupby(['business_postal_code'])['business_id'].count() # GROUP BY POSTAL CODE"
   ]
  },
  {
   "cell_type": "code",
   "execution_count": null,
   "id": "fe7a8eb6",
   "metadata": {},
   "outputs": [],
   "source": [
    "df"
   ]
  },
  {
   "cell_type": "code",
   "execution_count": null,
   "id": "0161f686",
   "metadata": {},
   "outputs": [],
   "source": [
    "df=pd.DataFrame(df) # SERIES TO DATAFRAME"
   ]
  },
  {
   "cell_type": "code",
   "execution_count": null,
   "id": "335f3695",
   "metadata": {},
   "outputs": [],
   "source": [
    "df"
   ]
  },
  {
   "cell_type": "code",
   "execution_count": null,
   "id": "b29b84b4",
   "metadata": {},
   "outputs": [],
   "source": [
    "df.rename(columns = {'business_id':'count'}, inplace=True) #RENAMING COLUMN"
   ]
  },
  {
   "cell_type": "code",
   "execution_count": null,
   "id": "120509ff",
   "metadata": {},
   "outputs": [],
   "source": [
    "df"
   ]
  },
  {
   "cell_type": "code",
   "execution_count": null,
   "id": "611cc50c",
   "metadata": {},
   "outputs": [],
   "source": [
    "df.sort_values(by=['count'], inplace=True, ascending=False) # SORT BY COUNT"
   ]
  },
  {
   "cell_type": "code",
   "execution_count": null,
   "id": "35e4e174",
   "metadata": {},
   "outputs": [],
   "source": [
    "df=df.head(20)"
   ]
  },
  {
   "cell_type": "code",
   "execution_count": null,
   "id": "b52f73d5",
   "metadata": {},
   "outputs": [],
   "source": [
    "df"
   ]
  },
  {
   "cell_type": "code",
   "execution_count": null,
   "id": "c4db4401",
   "metadata": {},
   "outputs": [],
   "source": [
    "#PLOTTING GRAPH\n",
    "\n",
    "fig = plt.figure(figsize = (20, 10))\n",
    "plt.bar(df.index, df['count'], color ='maroon',\n",
    "        width = 0.4)\n",
    "plt.xlabel(\"ZipCode\")\n",
    "plt.ylabel(\"Count\")\n",
    "plt.title(\"Zipcodes with High Risk Restaurants\")\n",
    "plt.xticks(rotation = 90)\n",
    "plt.show()"
   ]
  },
  {
   "cell_type": "code",
   "execution_count": null,
   "id": "1c0826a5",
   "metadata": {},
   "outputs": [],
   "source": [
    "inspection_score = sf.groupby('risk_category').agg({'inspection_score': ['mean', 'min', 'max']})\n",
    "  "
   ]
  },
  {
   "cell_type": "code",
   "execution_count": null,
   "id": "41716aaf",
   "metadata": {},
   "outputs": [],
   "source": [
    "inspection_score \n",
    "# INSPECTION SCORE RANGE FOR DIFFERENT TYPES OF RISKS \n",
    "# RANGE OF INSPECTION SCORE WOULD NOT HELP IN DETERMINING SAFETY OF RESTAURANTS."
   ]
  },
  {
   "cell_type": "markdown",
   "id": "78cde3ac",
   "metadata": {},
   "source": [
    "# EXPLORING IPYLEAFLET"
   ]
  },
  {
   "cell_type": "markdown",
   "id": "e816a05c",
   "metadata": {},
   "source": [
    "OK, but which restaurants are safe? \n",
    "We have filtered restaurants with Low Risk and inspection score of 100."
   ]
  },
  {
   "cell_type": "code",
   "execution_count": null,
   "id": "ce8c8593",
   "metadata": {},
   "outputs": [],
   "source": [
    "!pip install ipyleaflet # DOWNLOAD IPYLEAFLET LIBRARY"
   ]
  },
  {
   "cell_type": "code",
   "execution_count": null,
   "id": "58f561f4",
   "metadata": {},
   "outputs": [],
   "source": [
    "!jupyter nbextension enable --py --sys-prefix ipyleaflet #ENABLE LIBRARY USING NBEXTENSION"
   ]
  },
  {
   "cell_type": "code",
   "execution_count": null,
   "id": "06defd39",
   "metadata": {},
   "outputs": [],
   "source": [
    "!jupyter nbextension enable --py widgetsnbextension # ENABLE WIDGET EXTENSION"
   ]
  },
  {
   "cell_type": "code",
   "execution_count": null,
   "id": "8be99ade",
   "metadata": {},
   "outputs": [],
   "source": [
    "df = sf.loc[sf['risk_category'] == 'Low Risk']"
   ]
  },
  {
   "cell_type": "code",
   "execution_count": null,
   "id": "07066c18",
   "metadata": {},
   "outputs": [],
   "source": [
    "df = df.loc[sf['inspection_score'] == 100]"
   ]
  },
  {
   "cell_type": "code",
   "execution_count": null,
   "id": "d2b10ae5",
   "metadata": {},
   "outputs": [],
   "source": [
    "df.dropna()"
   ]
  },
  {
   "cell_type": "code",
   "execution_count": null,
   "id": "ce0fbcb7",
   "metadata": {},
   "outputs": [],
   "source": [
    "df = df.drop_duplicates('business_name') #Dropping off similar restaurants\n",
    "df=df.dropna()"
   ]
  },
  {
   "cell_type": "code",
   "execution_count": null,
   "id": "fa580f54",
   "metadata": {},
   "outputs": [],
   "source": [
    "df"
   ]
  },
  {
   "cell_type": "code",
   "execution_count": null,
   "id": "6d8e816f",
   "metadata": {},
   "outputs": [],
   "source": [
    "from ipyleaflet import Map, Marker\n",
    "map = Map(center=[37.7749,-122.4194], zoom=10) # CENTER COORDINATES OF SAN FRANCISCO AND ZOOM PARAMETER MENTIONED."
   ]
  },
  {
   "cell_type": "code",
   "execution_count": null,
   "id": "b3d186ac",
   "metadata": {},
   "outputs": [],
   "source": [
    "map"
   ]
  },
  {
   "cell_type": "code",
   "execution_count": null,
   "id": "c7810cac",
   "metadata": {},
   "outputs": [],
   "source": [
    "# PLOT RESTAURANTS WITH IMPORTED MARKER FUNCTION.\n",
    "for (index, row) in df.iterrows():\n",
    "    marker = Marker(location=[row.loc['business_latitude'], row.loc['business_longitude']], \n",
    "                    title=row.loc['business_name'] )\n",
    "    map.add_layer(marker)"
   ]
  },
  {
   "cell_type": "markdown",
   "id": "bcc9c4fe",
   "metadata": {},
   "source": [
    "# SAFE PLACES YOU CAN CHOSE FROM"
   ]
  },
  {
   "cell_type": "code",
   "execution_count": null,
   "id": "b68ee7d4",
   "metadata": {},
   "outputs": [],
   "source": [
    "map"
   ]
  }
 ],
 "metadata": {
  "kernelspec": {
   "display_name": "Python 3 (ipykernel)",
   "language": "python",
   "name": "python3"
  },
  "language_info": {
   "codemirror_mode": {
    "name": "ipython",
    "version": 3
   },
   "file_extension": ".py",
   "mimetype": "text/x-python",
   "name": "python",
   "nbconvert_exporter": "python",
   "pygments_lexer": "ipython3",
   "version": "3.9.7"
  }
 },
 "nbformat": 4,
 "nbformat_minor": 5
}
